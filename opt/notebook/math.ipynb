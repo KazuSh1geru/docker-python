{
 "cells": [
  {
   "cell_type": "code",
   "execution_count": null,
   "id": "9f242876-39e5-4a5f-85c0-dd6995f64b4a",
   "metadata": {},
   "outputs": [
    {
     "ename": "",
     "evalue": "",
     "output_type": "error",
     "traceback": [
      "\u001b[1;31mJupyter を起動できません。Jupyter の検索中にエラーが発生しました: 'Python 3.9.6 64-bit' を使用した実行中のセルには jupyter および notebook パッケージが必要です。\n",
      "\u001b[1;31m次のコマンドを実行して、'jupyter および notebook' を Python 環境にインストールします。\n",
      "\u001b[1;31mコマンド: 'python -m pip install jupyter notebook -U\n",
      "\u001b[1;31mor\n",
      "\u001b[1;31mconda install jupyter notebook -U'\n",
      "\u001b[1;31m詳細については<a href='https://aka.ms/installJupyterForVSCode'>こちら</a>をクリックしてください。"
     ]
    }
   ],
   "source": [
    "import math"
   ]
  },
  {
   "cell_type": "code",
   "execution_count": 2,
   "id": "1a20a72e-7ad4-4748-a6e7-48511a5be704",
   "metadata": {},
   "outputs": [
    {
     "data": {
      "text/plain": [
       "1.4142135623730951"
      ]
     },
     "execution_count": 2,
     "metadata": {},
     "output_type": "execute_result"
    }
   ],
   "source": [
    "math.sqrt(2)"
   ]
  },
  {
   "cell_type": "code",
   "execution_count": null,
   "id": "a392bfb1-843c-4184-9387-219076bab211",
   "metadata": {},
   "outputs": [],
   "source": []
  }
 ],
 "metadata": {
  "kernelspec": {
   "display_name": "Python 3.9.6 64-bit",
   "language": "python",
   "name": "python3"
  },
  "language_info": {
   "codemirror_mode": {
    "name": "ipython",
    "version": 3
   },
   "file_extension": ".py",
   "mimetype": "text/x-python",
   "name": "python",
   "nbconvert_exporter": "python",
   "pygments_lexer": "ipython3",
   "version": "3.9.6"
  },
  "vscode": {
   "interpreter": {
    "hash": "31f2aee4e71d21fbe5cf8b01ff0e069b9275f58929596ceb00d14d90e3e16cd6"
   }
  }
 },
 "nbformat": 4,
 "nbformat_minor": 5
}
